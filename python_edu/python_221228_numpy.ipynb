{
  "nbformat": 4,
  "nbformat_minor": 0,
  "metadata": {
    "colab": {
      "provenance": []
    },
    "kernelspec": {
      "name": "python3",
      "display_name": "Python 3"
    },
    "language_info": {
      "name": "python"
    }
  },
  "cells": [
    {
      "cell_type": "markdown",
      "source": [
        "## 라이브러리 불러오기\n",
        "- 라이브러리 불러오고, 버전 확인"
      ],
      "metadata": {
        "id": "IbbsjfGHP7qB"
      }
    },
    {
      "cell_type": "code",
      "execution_count": 2,
      "metadata": {
        "colab": {
          "base_uri": "https://localhost:8080/"
        },
        "id": "9jEOJuixFAZm",
        "outputId": "de50a3b5-4f71-4bd1-e0cc-e8639d48038e"
      },
      "outputs": [
        {
          "output_type": "stream",
          "name": "stdout",
          "text": [
            "1.21.6\n"
          ]
        }
      ],
      "source": [
        "import numpy as np \n",
        "print(np.__version__)\n",
        "\n",
        "# import numpy\n",
        "# print(numpy.__version__)"
      ]
    },
    {
      "cell_type": "markdown",
      "source": [
        "## NumPy 배열로 변환\n",
        "- 수치 연산을 하고 싶다!\n",
        "- 파이썬 기초 자료형을 배열로 변환한다!\n",
        "--> 형변환 이 개념과 유사"
      ],
      "metadata": {
        "id": "kfItvAZbQra2"
      }
    },
    {
      "cell_type": "code",
      "source": [
        "temp = [1, 2, 3, 4, 5, 6, 7, 8]\n",
        "result = np.array(temp)\n",
        "print(type(result))\n",
        "print(result)"
      ],
      "metadata": {
        "colab": {
          "base_uri": "https://localhost:8080/"
        },
        "id": "JJDq_pFEQ8LV",
        "outputId": "5f69e4df-059f-41bb-f1fa-0e0cb09a1082"
      },
      "execution_count": 12,
      "outputs": [
        {
          "output_type": "stream",
          "name": "stdout",
          "text": [
            "<class 'numpy.ndarray'>\n",
            "[1 2 3 4 5 6 7 8]\n"
          ]
        }
      ]
    },
    {
      "cell_type": "markdown",
      "source": [
        "- 배열의 크기\n",
        "- 배열은 1차원 / 2차원 / 3차원"
      ],
      "metadata": {
        "id": "LGTU9VazSV_N"
      }
    },
    {
      "cell_type": "code",
      "source": [
        "result.shape"
      ],
      "metadata": {
        "colab": {
          "base_uri": "https://localhost:8080/"
        },
        "id": "990zKlOlRqaB",
        "outputId": "f909f8fb-15e3-4000-9b40-128f68d8d4c3"
      },
      "execution_count": 13,
      "outputs": [
        {
          "output_type": "execute_result",
          "data": {
            "text/plain": [
              "(8,)"
            ]
          },
          "metadata": {},
          "execution_count": 13
        }
      ]
    },
    {
      "cell_type": "code",
      "source": [
        "result.ndim"
      ],
      "metadata": {
        "colab": {
          "base_uri": "https://localhost:8080/"
        },
        "id": "9QMAvym6SoJO",
        "outputId": "ecc9b7fd-cb78-410e-e052-cdb179b170bc"
      },
      "execution_count": 14,
      "outputs": [
        {
          "output_type": "execute_result",
          "data": {
            "text/plain": [
              "1"
            ]
          },
          "metadata": {},
          "execution_count": 14
        }
      ]
    },
    {
      "cell_type": "markdown",
      "source": [
        "- 다차원 배열 만들기"
      ],
      "metadata": {
        "id": "niUMLk5oTFo4"
      }
    },
    {
      "cell_type": "code",
      "source": [
        "temp = np.array([[2, 4, 6], [8, 10, 12]])\n",
        "print(temp)\n",
        "print(temp.shape)\n",
        "print(temp.ndim)"
      ],
      "metadata": {
        "colab": {
          "base_uri": "https://localhost:8080/"
        },
        "id": "xFGRAeIuTHEn",
        "outputId": "d76d9752-ecce-40c0-9731-1dd3977ca0d8"
      },
      "execution_count": 17,
      "outputs": [
        {
          "output_type": "stream",
          "name": "stdout",
          "text": [
            "[[ 2  4  6]\n",
            " [ 8 10 12]]\n",
            "(2, 3)\n",
            "2\n"
          ]
        }
      ]
    },
    {
      "cell_type": "markdown",
      "source": [
        "- 3차원 배열도 가능\n",
        "- 4차원 가능.... "
      ],
      "metadata": {
        "id": "3MsTkpBCTiFA"
      }
    },
    {
      "cell_type": "markdown",
      "source": [
        "## 여러 배열 생성 기본 함수\n",
        "- np.arange()"
      ],
      "metadata": {
        "id": "VXlz3g3lTwtE"
      }
    },
    {
      "cell_type": "code",
      "source": [
        "temp = np.arange(5)\n",
        "temp"
      ],
      "metadata": {
        "colab": {
          "base_uri": "https://localhost:8080/"
        },
        "id": "9sIbNeKuT3ix",
        "outputId": "dc384720-5481-4e1f-f94d-06e37632f69a"
      },
      "execution_count": 18,
      "outputs": [
        {
          "output_type": "execute_result",
          "data": {
            "text/plain": [
              "array([0, 1, 2, 3, 4])"
            ]
          },
          "metadata": {},
          "execution_count": 18
        }
      ]
    },
    {
      "cell_type": "code",
      "source": [
        "temp_z = np.zeros((2, 2, 2))\n",
        "print(temp_z)\n",
        "print(temp_z.shape)\n",
        "print(temp_z.ndim)\n",
        "\n",
        "# 데이터 타입\n",
        "print(temp_z.dtype)"
      ],
      "metadata": {
        "colab": {
          "base_uri": "https://localhost:8080/"
        },
        "id": "Ynggy6UyT9mL",
        "outputId": "95c41837-eb66-4d53-cef5-44a5139c1b95"
      },
      "execution_count": 26,
      "outputs": [
        {
          "output_type": "stream",
          "name": "stdout",
          "text": [
            "[[[0. 0.]\n",
            "  [0. 0.]]\n",
            "\n",
            " [[0. 0.]\n",
            "  [0. 0.]]]\n",
            "(2, 2, 2)\n",
            "3\n",
            "float64\n"
          ]
        }
      ]
    },
    {
      "cell_type": "markdown",
      "source": [
        "- 데이터 타입 크기 지정"
      ],
      "metadata": {
        "id": "_D3j6YSQU4e0"
      }
    },
    {
      "cell_type": "code",
      "source": [
        "temp_one = np.ones((255, 255), dtype='int32')\n",
        "print(temp_one)\n",
        "print(temp_one.dtype)"
      ],
      "metadata": {
        "colab": {
          "base_uri": "https://localhost:8080/"
        },
        "id": "6fmJT2F4U4IN",
        "outputId": "3947dd8a-3516-487a-c596-19d9a75be8d7"
      },
      "execution_count": 35,
      "outputs": [
        {
          "output_type": "stream",
          "name": "stdout",
          "text": [
            "[[1 1 1 ... 1 1 1]\n",
            " [1 1 1 ... 1 1 1]\n",
            " [1 1 1 ... 1 1 1]\n",
            " ...\n",
            " [1 1 1 ... 1 1 1]\n",
            " [1 1 1 ... 1 1 1]\n",
            " [1 1 1 ... 1 1 1]]\n",
            "int32\n"
          ]
        }
      ]
    },
    {
      "cell_type": "code",
      "source": [
        "result = temp_one.reshape(5, -1, 5)\n",
        "print(result)\n",
        "print(result.shape)"
      ],
      "metadata": {
        "colab": {
          "base_uri": "https://localhost:8080/"
        },
        "id": "2bk0ZnEeV6H7",
        "outputId": "5e43073f-bee8-4bb8-8cca-b6ee9d72a296"
      },
      "execution_count": 40,
      "outputs": [
        {
          "output_type": "stream",
          "name": "stdout",
          "text": [
            "[[[1 1 1 1 1]\n",
            "  [1 1 1 1 1]\n",
            "  [1 1 1 1 1]\n",
            "  ...\n",
            "  [1 1 1 1 1]\n",
            "  [1 1 1 1 1]\n",
            "  [1 1 1 1 1]]\n",
            "\n",
            " [[1 1 1 1 1]\n",
            "  [1 1 1 1 1]\n",
            "  [1 1 1 1 1]\n",
            "  ...\n",
            "  [1 1 1 1 1]\n",
            "  [1 1 1 1 1]\n",
            "  [1 1 1 1 1]]\n",
            "\n",
            " [[1 1 1 1 1]\n",
            "  [1 1 1 1 1]\n",
            "  [1 1 1 1 1]\n",
            "  ...\n",
            "  [1 1 1 1 1]\n",
            "  [1 1 1 1 1]\n",
            "  [1 1 1 1 1]]\n",
            "\n",
            " [[1 1 1 1 1]\n",
            "  [1 1 1 1 1]\n",
            "  [1 1 1 1 1]\n",
            "  ...\n",
            "  [1 1 1 1 1]\n",
            "  [1 1 1 1 1]\n",
            "  [1 1 1 1 1]]\n",
            "\n",
            " [[1 1 1 1 1]\n",
            "  [1 1 1 1 1]\n",
            "  [1 1 1 1 1]\n",
            "  ...\n",
            "  [1 1 1 1 1]\n",
            "  [1 1 1 1 1]\n",
            "  [1 1 1 1 1]]]\n",
            "(5, 2601, 5)\n"
          ]
        }
      ]
    },
    {
      "cell_type": "markdown",
      "source": [
        "## 인덱싱 슬라이싱"
      ],
      "metadata": {
        "id": "1keJo16dXPOO"
      }
    },
    {
      "cell_type": "code",
      "source": [
        "temp = np.arange(0, 4)\n",
        "print(temp)\n"
      ],
      "metadata": {
        "colab": {
          "base_uri": "https://localhost:8080/"
        },
        "id": "DmTRM3UFXTFf",
        "outputId": "88d0806d-10bf-4554-b479-95911dbe2aaa"
      },
      "execution_count": 41,
      "outputs": [
        {
          "output_type": "stream",
          "name": "stdout",
          "text": [
            "[0 1 2 3]\n"
          ]
        }
      ]
    },
    {
      "cell_type": "code",
      "source": [
        "temp[0:2]"
      ],
      "metadata": {
        "colab": {
          "base_uri": "https://localhost:8080/"
        },
        "id": "YTcPAWfOXZHe",
        "outputId": "c812d811-cfa7-4e5e-e363-530b02194ae0"
      },
      "execution_count": 43,
      "outputs": [
        {
          "output_type": "execute_result",
          "data": {
            "text/plain": [
              "array([0, 1])"
            ]
          },
          "metadata": {},
          "execution_count": 43
        }
      ]
    },
    {
      "cell_type": "code",
      "source": [
        "temp = np.arange(3, 30, 3).reshape(3, 3)\n",
        "temp"
      ],
      "metadata": {
        "colab": {
          "base_uri": "https://localhost:8080/"
        },
        "id": "0vjv4MFkXdSB",
        "outputId": "41639897-7f2d-4ff7-cffa-7c8e50ba9bca"
      },
      "execution_count": 44,
      "outputs": [
        {
          "output_type": "execute_result",
          "data": {
            "text/plain": [
              "array([[ 3,  6,  9],\n",
              "       [12, 15, 18],\n",
              "       [21, 24, 27]])"
            ]
          },
          "metadata": {},
          "execution_count": 44
        }
      ]
    },
    {
      "cell_type": "code",
      "source": [
        "temp[0:2, 0:2]"
      ],
      "metadata": {
        "colab": {
          "base_uri": "https://localhost:8080/"
        },
        "id": "3o-5gbNwXlty",
        "outputId": "e803453c-7d7b-4044-84fd-b0a5e0cec4ab"
      },
      "execution_count": 46,
      "outputs": [
        {
          "output_type": "execute_result",
          "data": {
            "text/plain": [
              "array([[ 3,  6],\n",
              "       [12, 15]])"
            ]
          },
          "metadata": {},
          "execution_count": 46
        }
      ]
    },
    {
      "cell_type": "code",
      "source": [
        "temp[1:3, :]"
      ],
      "metadata": {
        "colab": {
          "base_uri": "https://localhost:8080/"
        },
        "id": "GuAwRpF4X8ci",
        "outputId": "70695adc-b093-42f9-94b8-462ef174ee80"
      },
      "execution_count": 47,
      "outputs": [
        {
          "output_type": "execute_result",
          "data": {
            "text/plain": [
              "array([[12, 15, 18],\n",
              "       [21, 24, 27]])"
            ]
          },
          "metadata": {},
          "execution_count": 47
        }
      ]
    },
    {
      "cell_type": "code",
      "source": [
        "temp[:, 1:3]"
      ],
      "metadata": {
        "colab": {
          "base_uri": "https://localhost:8080/"
        },
        "id": "d4fteQ98X_d4",
        "outputId": "658655dd-cc45-4c80-931d-197fb9877938"
      },
      "execution_count": 48,
      "outputs": [
        {
          "output_type": "execute_result",
          "data": {
            "text/plain": [
              "array([[ 6,  9],\n",
              "       [15, 18],\n",
              "       [24, 27]])"
            ]
          },
          "metadata": {},
          "execution_count": 48
        }
      ]
    },
    {
      "cell_type": "markdown",
      "source": [
        "## 난수 생성\n",
        "- 임의의 숫자 생성"
      ],
      "metadata": {
        "id": "58jVAqgZf1WV"
      }
    },
    {
      "cell_type": "code",
      "source": [
        "# from numpy import random\n",
        "# x = random.rand()\n",
        "\n",
        "import numpy\n",
        "x = numpy.random.rand()\n",
        "\n",
        "print(x)"
      ],
      "metadata": {
        "colab": {
          "base_uri": "https://localhost:8080/"
        },
        "id": "81fQTyt9f4QQ",
        "outputId": "d88d1d0b-d179-4b75-99a2-86ccccc9cddb"
      },
      "execution_count": 50,
      "outputs": [
        {
          "output_type": "stream",
          "name": "stdout",
          "text": [
            "0.08706227270644129\n"
          ]
        }
      ]
    },
    {
      "cell_type": "markdown",
      "source": [
        "- 임의의 정수"
      ],
      "metadata": {
        "id": "TApZ3gLugqNe"
      }
    },
    {
      "cell_type": "code",
      "source": [
        "from numpy import random \n",
        "x = random.randint(1000, size = (5, 2, 3))\n",
        "print(x)"
      ],
      "metadata": {
        "colab": {
          "base_uri": "https://localhost:8080/"
        },
        "id": "LFpbKofZgrNi",
        "outputId": "c3bf0f0a-5790-4d0a-c1bd-110f040b6e2c"
      },
      "execution_count": 55,
      "outputs": [
        {
          "output_type": "stream",
          "name": "stdout",
          "text": [
            "[[[884 611 400]\n",
            "  [389 232  29]]\n",
            "\n",
            " [[742 808 169]\n",
            "  [515 251 316]]\n",
            "\n",
            " [[710 171 468]\n",
            "  [505 863 616]]\n",
            "\n",
            " [[662 328 311]\n",
            "  [492 500 666]]\n",
            "\n",
            " [[704 368  24]\n",
            "  [674 294 640]]]\n"
          ]
        }
      ]
    },
    {
      "cell_type": "code",
      "source": [
        "x = random.rand(2, 6)\n",
        "print(x)"
      ],
      "metadata": {
        "colab": {
          "base_uri": "https://localhost:8080/"
        },
        "id": "jSLBBayuhRU-",
        "outputId": "25ac8149-bea4-4f90-b7a1-96a7632d9823"
      },
      "execution_count": 60,
      "outputs": [
        {
          "output_type": "stream",
          "name": "stdout",
          "text": [
            "[[0.51750101 0.94497415 0.68981745 0.81964736 0.23216838 0.03077026]\n",
            " [0.64339062 0.88203458 0.43330056 0.51517256 0.52331727 0.2964188 ]]\n"
          ]
        }
      ]
    },
    {
      "cell_type": "markdown",
      "source": [
        "## 배열 연산"
      ],
      "metadata": {
        "id": "uX1Z9FFph-pl"
      }
    },
    {
      "cell_type": "code",
      "source": [
        "array01 = random.randint(100, size = (5, 2))\n",
        "array02 = random.randint(1000, size = (5, 2))\n",
        "\n",
        "print(array01)\n",
        "print(array02)"
      ],
      "metadata": {
        "colab": {
          "base_uri": "https://localhost:8080/"
        },
        "id": "ivCG0TYriAec",
        "outputId": "b02224e1-f96b-48f4-84cc-6ab96e5483f5"
      },
      "execution_count": 68,
      "outputs": [
        {
          "output_type": "stream",
          "name": "stdout",
          "text": [
            "[[40 25]\n",
            " [55 11]\n",
            " [13 33]\n",
            " [25 45]\n",
            " [97 53]]\n",
            "[[499 188]\n",
            " [110 336]\n",
            " [975 373]\n",
            " [942  21]\n",
            " [980 290]]\n"
          ]
        }
      ]
    },
    {
      "cell_type": "code",
      "source": [
        "import numpy as np \n",
        "\n",
        "# 덧셈\n",
        "np.add(array01, array02)"
      ],
      "metadata": {
        "colab": {
          "base_uri": "https://localhost:8080/"
        },
        "id": "Qvqy9_n2iQsT",
        "outputId": "b6405a4c-e03f-4977-b09e-43adfbde65d7"
      },
      "execution_count": 69,
      "outputs": [
        {
          "output_type": "execute_result",
          "data": {
            "text/plain": [
              "array([[ 539,  213],\n",
              "       [ 165,  347],\n",
              "       [ 988,  406],\n",
              "       [ 967,   66],\n",
              "       [1077,  343]])"
            ]
          },
          "metadata": {},
          "execution_count": 69
        }
      ]
    },
    {
      "cell_type": "code",
      "source": [
        "# 뺄셈\n",
        "np.subtract(array01, array02)"
      ],
      "metadata": {
        "colab": {
          "base_uri": "https://localhost:8080/"
        },
        "id": "5eqblMbSifT_",
        "outputId": "c361175f-b484-4d31-cc3e-77de24e35d7e"
      },
      "execution_count": 70,
      "outputs": [
        {
          "output_type": "execute_result",
          "data": {
            "text/plain": [
              "array([[-459, -163],\n",
              "       [ -55, -325],\n",
              "       [-962, -340],\n",
              "       [-917,   24],\n",
              "       [-883, -237]])"
            ]
          },
          "metadata": {},
          "execution_count": 70
        }
      ]
    },
    {
      "cell_type": "code",
      "source": [
        "# 곱셈\n",
        "np.multiply(array01, array02)"
      ],
      "metadata": {
        "colab": {
          "base_uri": "https://localhost:8080/"
        },
        "id": "FFB-MS2Wijas",
        "outputId": "f0b5c8e2-c5c2-4b76-a3ef-812710200ec0"
      },
      "execution_count": 71,
      "outputs": [
        {
          "output_type": "execute_result",
          "data": {
            "text/plain": [
              "array([[19960,  4700],\n",
              "       [ 6050,  3696],\n",
              "       [12675, 12309],\n",
              "       [23550,   945],\n",
              "       [95060, 15370]])"
            ]
          },
          "metadata": {},
          "execution_count": 71
        }
      ]
    },
    {
      "cell_type": "code",
      "source": [
        "# 나눗셈\n",
        "np.divide(array01, array02)"
      ],
      "metadata": {
        "colab": {
          "base_uri": "https://localhost:8080/"
        },
        "id": "7Pc6mTSSioic",
        "outputId": "fdff067d-afe2-43e6-ca32-0a252c45870b"
      },
      "execution_count": 72,
      "outputs": [
        {
          "output_type": "execute_result",
          "data": {
            "text/plain": [
              "array([[0.08016032, 0.13297872],\n",
              "       [0.5       , 0.0327381 ],\n",
              "       [0.01333333, 0.08847185],\n",
              "       [0.02653928, 2.14285714],\n",
              "       [0.09897959, 0.18275862]])"
            ]
          },
          "metadata": {},
          "execution_count": 72
        }
      ]
    },
    {
      "cell_type": "markdown",
      "source": [
        "## 소숫점 제거"
      ],
      "metadata": {
        "id": "pkJ-wCvljmeF"
      }
    },
    {
      "cell_type": "code",
      "source": [
        "array01 = np.trunc([-1.23, 1.23])\n",
        "array01"
      ],
      "metadata": {
        "colab": {
          "base_uri": "https://localhost:8080/"
        },
        "id": "mmsGPlW5joIQ",
        "outputId": "9dabae47-e6a1-4b78-992e-d3ba4ad5e832"
      },
      "execution_count": 73,
      "outputs": [
        {
          "output_type": "execute_result",
          "data": {
            "text/plain": [
              "array([-1.,  1.])"
            ]
          },
          "metadata": {},
          "execution_count": 73
        }
      ]
    },
    {
      "cell_type": "code",
      "source": [
        "array01 = np.round([-1.235231312, 1.231231231], 3)\n",
        "array01"
      ],
      "metadata": {
        "colab": {
          "base_uri": "https://localhost:8080/"
        },
        "id": "0tZCOKJ6jxta",
        "outputId": "933eee93-22b0-4f79-995c-27075e5300ed"
      },
      "execution_count": 75,
      "outputs": [
        {
          "output_type": "execute_result",
          "data": {
            "text/plain": [
              "array([-1.235,  1.231])"
            ]
          },
          "metadata": {},
          "execution_count": 75
        }
      ]
    },
    {
      "cell_type": "code",
      "source": [
        "array01 = np.floor([-1.235231312, 1.231231231])\n",
        "array01"
      ],
      "metadata": {
        "colab": {
          "base_uri": "https://localhost:8080/"
        },
        "id": "JwnWei14j7Ri",
        "outputId": "0602661c-d647-481b-bf53-36f81f6fe20d"
      },
      "execution_count": 76,
      "outputs": [
        {
          "output_type": "execute_result",
          "data": {
            "text/plain": [
              "array([-2.,  1.])"
            ]
          },
          "metadata": {},
          "execution_count": 76
        }
      ]
    },
    {
      "cell_type": "code",
      "source": [
        "array01 = np.ceil([-1.235231312, 1.231231231])\n",
        "array01"
      ],
      "metadata": {
        "colab": {
          "base_uri": "https://localhost:8080/"
        },
        "id": "z43HBFFtj_Cq",
        "outputId": "c66d7f99-8dcd-4a3f-c3a8-dd99f2008448"
      },
      "execution_count": 77,
      "outputs": [
        {
          "output_type": "execute_result",
          "data": {
            "text/plain": [
              "array([-1.,  2.])"
            ]
          },
          "metadata": {},
          "execution_count": 77
        }
      ]
    },
    {
      "cell_type": "markdown",
      "source": [
        "## NumPy 조건식\n",
        "- numpy.select() : 다중조건문\n",
        "- numpy.where() : 단일조건문"
      ],
      "metadata": {
        "id": "BBwtwzKEkjNz"
      }
    },
    {
      "cell_type": "code",
      "source": [
        "array01 = np.arange(10)\n",
        "array01"
      ],
      "metadata": {
        "colab": {
          "base_uri": "https://localhost:8080/"
        },
        "id": "ey8jPlmkkn_x",
        "outputId": "30dc2fa1-e3ad-4063-9412-304cee8bf1a8"
      },
      "execution_count": 78,
      "outputs": [
        {
          "output_type": "execute_result",
          "data": {
            "text/plain": [
              "array([0, 1, 2, 3, 4, 5, 6, 7, 8, 9])"
            ]
          },
          "metadata": {},
          "execution_count": 78
        }
      ]
    },
    {
      "cell_type": "code",
      "source": [
        "# 배열에서 5 미만이면, 원래 값 반환, 그 외에는 원래 값 * 100\n",
        "import numpy as np \n",
        "\n",
        "#        조건식         참       거짓\n",
        "np.where(array01 < 5, array01, array01 * 100)"
      ],
      "metadata": {
        "colab": {
          "base_uri": "https://localhost:8080/"
        },
        "id": "CzF7SIsVk5EM",
        "outputId": "8ae49c89-3f68-40a7-eaf2-bc90f6c1b818"
      },
      "execution_count": 79,
      "outputs": [
        {
          "output_type": "execute_result",
          "data": {
            "text/plain": [
              "array([  0,   1,   2,   3,   4, 500, 600, 700, 800, 900])"
            ]
          },
          "metadata": {},
          "execution_count": 79
        }
      ]
    },
    {
      "cell_type": "markdown",
      "source": [
        "- 다중조건문\n"
      ],
      "metadata": {
        "id": "K54MWnG1ljz5"
      }
    },
    {
      "cell_type": "code",
      "source": [
        "# 배열에서 3 미만이면, 원래 값 + 10, 7 이상이면 * 100, 그 외에는 원래 값\n",
        "cond_list =   [array01 < 3,  array01 >= 7]\n",
        "result_list = [array01 + 10, array01 * 100]\n",
        "\n",
        "np.select(cond_list, result_list, default = array01)"
      ],
      "metadata": {
        "colab": {
          "base_uri": "https://localhost:8080/"
        },
        "id": "rxABoVNrllj3",
        "outputId": "840ee249-4760-4146-f763-fdcea73edd88"
      },
      "execution_count": 80,
      "outputs": [
        {
          "output_type": "execute_result",
          "data": {
            "text/plain": [
              "array([ 10,  11,  12,   3,   4,   5,   6, 700, 800, 900])"
            ]
          },
          "metadata": {},
          "execution_count": 80
        }
      ]
    }
  ]
}