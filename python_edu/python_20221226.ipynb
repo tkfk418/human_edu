{
  "nbformat": 4,
  "nbformat_minor": 0,
  "metadata": {
    "colab": {
      "provenance": []
    },
    "kernelspec": {
      "name": "python3",
      "display_name": "Python 3"
    },
    "language_info": {
      "name": "python"
    }
  },
  "cells": [
    {
      "cell_type": "markdown",
      "source": [
        "## 기초문법\n",
        "\n",
        "\n",
        "\n"
      ],
      "metadata": {
        "id": "2ME694lj0rUZ"
      }
    },
    {
      "cell_type": "markdown",
      "source": [
        "### 파이썬 확장자명\n",
        "- .py : 개발용\n",
        "- .ipynb : 분석가, 데이터 싸이언티스트, 강의용\n",
        "  + 주피터 노트북, 주피터 랩"
      ],
      "metadata": {
        "id": "7vL-yTjM5lFI"
      }
    },
    {
      "cell_type": "code",
      "execution_count": 1,
      "metadata": {
        "colab": {
          "base_uri": "https://localhost:8080/"
        },
        "id": "E_aNr4lL0nhQ",
        "outputId": "7f63025c-ce73-447e-ed60-04de89244ee7"
      },
      "outputs": [
        {
          "output_type": "execute_result",
          "data": {
            "text/plain": [
              "2"
            ]
          },
          "metadata": {},
          "execution_count": 1
        }
      ],
      "source": [
        "1+1"
      ]
    },
    {
      "cell_type": "code",
      "source": [
        "print(\"Hello, World\")"
      ],
      "metadata": {
        "colab": {
          "base_uri": "https://localhost:8080/"
        },
        "id": "LIAtLQhM4x8B",
        "outputId": "50db0344-d2fc-40ec-af93-b59381e5d830"
      },
      "execution_count": 2,
      "outputs": [
        {
          "output_type": "stream",
          "name": "stdout",
          "text": [
            "Hello, World\n"
          ]
        }
      ]
    },
    {
      "cell_type": "markdown",
      "source": [
        "## 주석 처리\n",
        "- 한줄 주석 처리\n",
        "- 여러줄 주석 처리"
      ],
      "metadata": {
        "id": "xCd3bnKP45dA"
      }
    },
    {
      "cell_type": "code",
      "source": [
        "# 한줄 주석 처리, 주석 주석 \n",
        "\n",
        "print(\"Hello, World\")"
      ],
      "metadata": {
        "colab": {
          "base_uri": "https://localhost:8080/"
        },
        "id": "-2JL8dEg4-6R",
        "outputId": "7aeb67d4-99c0-48c1-fb18-323ca6a6bc77"
      },
      "execution_count": 3,
      "outputs": [
        {
          "output_type": "stream",
          "name": "stdout",
          "text": [
            "Hello, World\n"
          ]
        }
      ]
    },
    {
      "cell_type": "code",
      "source": [
        "\"\"\"\n",
        "abc\n",
        "dec\n",
        "def\n",
        "\"\"\"\n",
        "\n",
        "print(\"Hello, World\")"
      ],
      "metadata": {
        "colab": {
          "base_uri": "https://localhost:8080/"
        },
        "id": "XqDrFV3u5E5H",
        "outputId": "b781990e-6b50-4a08-915a-58edd12b1153"
      },
      "execution_count": 4,
      "outputs": [
        {
          "output_type": "stream",
          "name": "stdout",
          "text": [
            "Hello, World\n"
          ]
        }
      ]
    },
    {
      "cell_type": "markdown",
      "source": [
        "ipynb 파일을 md + 이미지 같이 변환 가능 \n",
        "--> 노션에서 "
      ],
      "metadata": {
        "id": "GlMgWTIO885m"
      }
    },
    {
      "cell_type": "markdown",
      "source": [
        "## 그림"
      ],
      "metadata": {
        "id": "pQSwb4Lt4xil"
      }
    },
    {
      "cell_type": "markdown",
      "source": [
        "## 변수의 종류 \n",
        "- 변수의 종류 : 숫자, 문자, 논리(True, False), NULL "
      ],
      "metadata": {
        "id": "uV30Cy4g9ViN"
      }
    },
    {
      "cell_type": "code",
      "source": [
        "# 정수형\n",
        "num_int = 1\n",
        "print(num_int)\n",
        "print(type(num_int))"
      ],
      "metadata": {
        "colab": {
          "base_uri": "https://localhost:8080/"
        },
        "id": "y0kIXIUe9ir0",
        "outputId": "7e48a8fd-452d-4d61-a09d-face96b28e11"
      },
      "execution_count": 7,
      "outputs": [
        {
          "output_type": "stream",
          "name": "stdout",
          "text": [
            "1\n",
            "<class 'int'>\n"
          ]
        }
      ]
    },
    {
      "cell_type": "code",
      "source": [
        "# 실수형\n",
        "num_float = 0.2\n",
        "print(num_float)\n",
        "print(type(num_float))"
      ],
      "metadata": {
        "colab": {
          "base_uri": "https://localhost:8080/"
        },
        "id": "qNAS5-sH9z4h",
        "outputId": "556efe0a-dbc0-4a6e-9e15-00c21dbf27ee"
      },
      "execution_count": 8,
      "outputs": [
        {
          "output_type": "stream",
          "name": "stdout",
          "text": [
            "0.2\n",
            "<class 'float'>\n"
          ]
        }
      ]
    },
    {
      "cell_type": "code",
      "source": [
        "# 논리 자료형\n",
        "bool_true = False # True\n",
        "print(bool_true)\n",
        "print(type(bool_true))"
      ],
      "metadata": {
        "colab": {
          "base_uri": "https://localhost:8080/"
        },
        "id": "bGhVM6Uw-gsj",
        "outputId": "7b6bc24f-890f-434a-ddd8-6bfebd0a26e1"
      },
      "execution_count": 10,
      "outputs": [
        {
          "output_type": "stream",
          "name": "stdout",
          "text": [
            "False\n",
            "<class 'bool'>\n"
          ]
        }
      ]
    },
    {
      "cell_type": "code",
      "source": [
        "# NULL 자료형\n",
        "none_x = None \n",
        "print(none_x)\n",
        "print(type(none_x))"
      ],
      "metadata": {
        "colab": {
          "base_uri": "https://localhost:8080/"
        },
        "id": "ABtyjhac-uz5",
        "outputId": "c9a3dbc9-0faf-477d-9697-2303411cfde9"
      },
      "execution_count": 11,
      "outputs": [
        {
          "output_type": "stream",
          "name": "stdout",
          "text": [
            "None\n",
            "<class 'NoneType'>\n"
          ]
        }
      ]
    },
    {
      "cell_type": "markdown",
      "source": [
        "### 4가지 자료형 : Scalar 자료형\n",
        "- int, float, bool, NoneType\n",
        "- 더는 나눌 수 없는 최소 단위의 자료형\n",
        "  + 이 객체 하나로는 반복문 사용이 불가"
      ],
      "metadata": {
        "id": "-IwJBtRx_Ajq"
      }
    },
    {
      "cell_type": "markdown",
      "source": [
        "## 정수형 사칙 연산\n",
        "- 결괏값의 자료형 확인\n",
        "- 특이한 사칙연산자 하나 있음 (나눗셈)"
      ],
      "metadata": {
        "id": "cnSg8aui_xnX"
      }
    },
    {
      "cell_type": "code",
      "source": [
        "a = 4\n",
        "b = 2\n",
        "\n",
        "c = a / b\n",
        "\n",
        "print(c)\n",
        "print(type(c))"
      ],
      "metadata": {
        "colab": {
          "base_uri": "https://localhost:8080/"
        },
        "id": "JBmrgDQq_5Fl",
        "outputId": "b7e6211a-be9c-4961-c251-32a4be5f4d8e"
      },
      "execution_count": 17,
      "outputs": [
        {
          "output_type": "stream",
          "name": "stdout",
          "text": [
            "2.0\n",
            "<class 'float'>\n"
          ]
        }
      ]
    },
    {
      "cell_type": "markdown",
      "source": [
        "## 실수형 사칙 연산\n",
        "- 결괏값의 자료형 확인"
      ],
      "metadata": {
        "id": "FuLsuX61AipT"
      }
    },
    {
      "cell_type": "code",
      "source": [
        "a = 4.0\n",
        "b = 2.0\n",
        "\n",
        "c = a * b\n",
        "\n",
        "print(c)\n",
        "print(type(c))"
      ],
      "metadata": {
        "colab": {
          "base_uri": "https://localhost:8080/"
        },
        "id": "IaRreBmQAmjk",
        "outputId": "c9439059-39d7-425c-92af-460d56b3ed02"
      },
      "execution_count": 21,
      "outputs": [
        {
          "output_type": "stream",
          "name": "stdout",
          "text": [
            "8.0\n",
            "<class 'float'>\n"
          ]
        }
      ]
    },
    {
      "cell_type": "markdown",
      "source": [
        "## 논리형 연산자\n",
        "- AND / OR / NOT(옵션)"
      ],
      "metadata": {
        "id": "MkPrAQmCA32r"
      }
    },
    {
      "cell_type": "code",
      "source": [
        "print(True and True)\n",
        "print(True and False)\n",
        "print(False and True)\n",
        "print(False and False)"
      ],
      "metadata": {
        "colab": {
          "base_uri": "https://localhost:8080/"
        },
        "id": "pD8LYfrZA_D-",
        "outputId": "fbb8a276-4514-45d6-afdc-dcad2966841f"
      },
      "execution_count": 24,
      "outputs": [
        {
          "output_type": "stream",
          "name": "stdout",
          "text": [
            "True\n",
            "False\n",
            "False\n",
            "False\n"
          ]
        }
      ]
    },
    {
      "cell_type": "code",
      "source": [
        "print(True or True)\n",
        "print(True or False)\n",
        "print(False or True)\n",
        "print(False or False)"
      ],
      "metadata": {
        "colab": {
          "base_uri": "https://localhost:8080/"
        },
        "id": "kbAxMVZNBPCT",
        "outputId": "101df775-3d92-4597-b649-6bfa37f1a593"
      },
      "execution_count": 25,
      "outputs": [
        {
          "output_type": "stream",
          "name": "stdout",
          "text": [
            "True\n",
            "True\n",
            "True\n",
            "False\n"
          ]
        }
      ]
    },
    {
      "cell_type": "markdown",
      "source": [
        "## 부등호 연산자\n",
        "- `>`, `<`, `>=`, `<=`"
      ],
      "metadata": {
        "id": "-GOU_mNUBXX8"
      }
    },
    {
      "cell_type": "code",
      "source": [
        "print(3 >= 3)\n",
        "print(4 >= 6)"
      ],
      "metadata": {
        "colab": {
          "base_uri": "https://localhost:8080/"
        },
        "id": "wbm_WJB8BbfL",
        "outputId": "1a376daa-2d84-41b2-bf4c-2d610a3516ca"
      },
      "execution_count": 30,
      "outputs": [
        {
          "output_type": "stream",
          "name": "stdout",
          "text": [
            "True\n",
            "False\n"
          ]
        }
      ]
    },
    {
      "cell_type": "markdown",
      "source": [
        "## 두 개의 값 비교\n",
        "- 입력받아서 True, False가 나오도록 간단한 프로그램 작성\n",
        "- 형변환 배우기"
      ],
      "metadata": {
        "id": "wwFkL6o6B4mv"
      }
    },
    {
      "cell_type": "code",
      "source": [
        "var = input(\"값을 입력해주세요!\")\n",
        "print(\"-------\")\n",
        "print(var)\n",
        "print(type(var))"
      ],
      "metadata": {
        "colab": {
          "base_uri": "https://localhost:8080/"
        },
        "id": "PF9lkEtJCF7t",
        "outputId": "b0ff0a11-0379-4414-cddc-f50a6d302883"
      },
      "execution_count": 34,
      "outputs": [
        {
          "output_type": "stream",
          "name": "stdout",
          "text": [
            "값을 입력해주세요!123\n",
            "-------\n",
            "123\n",
            "<class 'str'>\n"
          ]
        }
      ]
    },
    {
      "cell_type": "code",
      "source": [
        "var1 = int(input(\"값을 입력해주세요!\"))\n",
        "var2 = int(input(\"값을 입력해주세요!\"))\n",
        "\n",
        "print(var1 + var2)"
      ],
      "metadata": {
        "colab": {
          "base_uri": "https://localhost:8080/"
        },
        "id": "seCygsG3CuT0",
        "outputId": "cea5f836-5776-4dcf-96a9-eed926f44275"
      },
      "execution_count": 36,
      "outputs": [
        {
          "output_type": "stream",
          "name": "stdout",
          "text": [
            "값을 입력해주세요!123\n",
            "값을 입력해주세요!456\n",
            "579\n"
          ]
        }
      ]
    },
    {
      "cell_type": "code",
      "source": [
        "print(var1 > var2)"
      ],
      "metadata": {
        "colab": {
          "base_uri": "https://localhost:8080/"
        },
        "id": "5fghKakmDXYk",
        "outputId": "de673c30-21bb-42f2-a00a-aaa7bb5c57c7"
      },
      "execution_count": 37,
      "outputs": [
        {
          "output_type": "stream",
          "name": "stdout",
          "text": [
            "False\n"
          ]
        }
      ]
    },
    {
      "cell_type": "markdown",
      "source": [
        "## 오후 수업의 목표\n",
        "- 파이썬 함수(=Methods) 사용법 익히기\n",
        "- 관련 문서 확인하기"
      ],
      "metadata": {
        "id": "WeZP0h9OxZ9r"
      }
    },
    {
      "cell_type": "code",
      "source": [
        "# Capitallize \n",
        "text = 'i love YOU' # str 클래스 객체\n",
        "print(type(text))\n",
        "result = text.capitalize()\n",
        "print(result)"
      ],
      "metadata": {
        "colab": {
          "base_uri": "https://localhost:8080/"
        },
        "id": "ygvF7Ixyx3wJ",
        "outputId": "b06102f5-69b3-41e3-a0cf-4e5ac663c3c6"
      },
      "execution_count": 2,
      "outputs": [
        {
          "output_type": "stream",
          "name": "stdout",
          "text": [
            "<class 'str'>\n",
            "I love you\n"
          ]
        }
      ]
    },
    {
      "cell_type": "code",
      "source": [
        "# Capitallize \n",
        "text = 'i love YOU' # str 클래스 객체\n",
        "print(type(text))\n",
        "result = text.capital()\n",
        "print(result)"
      ],
      "metadata": {
        "colab": {
          "base_uri": "https://localhost:8080/",
          "height": 248
        },
        "id": "Breh4ZjIzJWy",
        "outputId": "781cb016-addc-4795-842f-b235d01f9992"
      },
      "execution_count": 4,
      "outputs": [
        {
          "output_type": "stream",
          "name": "stdout",
          "text": [
            "<class 'str'>\n"
          ]
        },
        {
          "output_type": "error",
          "ename": "AttributeError",
          "evalue": "ignored",
          "traceback": [
            "\u001b[0;31m---------------------------------------------------------------------------\u001b[0m",
            "\u001b[0;31mAttributeError\u001b[0m                            Traceback (most recent call last)",
            "\u001b[0;32m<ipython-input-4-53502c41a95e>\u001b[0m in \u001b[0;36m<module>\u001b[0;34m\u001b[0m\n\u001b[1;32m      2\u001b[0m \u001b[0mtext\u001b[0m \u001b[0;34m=\u001b[0m \u001b[0;34m'i love YOU'\u001b[0m \u001b[0;31m# str 클래스 객체\u001b[0m\u001b[0;34m\u001b[0m\u001b[0;34m\u001b[0m\u001b[0m\n\u001b[1;32m      3\u001b[0m \u001b[0mprint\u001b[0m\u001b[0;34m(\u001b[0m\u001b[0mtype\u001b[0m\u001b[0;34m(\u001b[0m\u001b[0mtext\u001b[0m\u001b[0;34m)\u001b[0m\u001b[0;34m)\u001b[0m\u001b[0;34m\u001b[0m\u001b[0;34m\u001b[0m\u001b[0m\n\u001b[0;32m----> 4\u001b[0;31m \u001b[0mresult\u001b[0m \u001b[0;34m=\u001b[0m \u001b[0mtext\u001b[0m\u001b[0;34m.\u001b[0m\u001b[0mcapital\u001b[0m\u001b[0;34m(\u001b[0m\u001b[0;34m)\u001b[0m\u001b[0;34m\u001b[0m\u001b[0;34m\u001b[0m\u001b[0m\n\u001b[0m\u001b[1;32m      5\u001b[0m \u001b[0mprint\u001b[0m\u001b[0;34m(\u001b[0m\u001b[0mresult\u001b[0m\u001b[0;34m)\u001b[0m\u001b[0;34m\u001b[0m\u001b[0;34m\u001b[0m\u001b[0m\n",
            "\u001b[0;31mAttributeError\u001b[0m: 'str' object has no attribute 'capital'"
          ]
        }
      ]
    },
    {
      "cell_type": "code",
      "source": [
        "text = '    python is best    '\n",
        "print(text)\n",
        "result = text.strips()\n",
        "print(result)"
      ],
      "metadata": {
        "colab": {
          "base_uri": "https://localhost:8080/",
          "height": 248
        },
        "id": "4MbOViQe1G2T",
        "outputId": "79d36d1a-10da-4fa9-a145-39e6624b0b15"
      },
      "execution_count": 7,
      "outputs": [
        {
          "output_type": "stream",
          "name": "stdout",
          "text": [
            "    python is best    \n"
          ]
        },
        {
          "output_type": "error",
          "ename": "AttributeError",
          "evalue": "ignored",
          "traceback": [
            "\u001b[0;31m---------------------------------------------------------------------------\u001b[0m",
            "\u001b[0;31mAttributeError\u001b[0m                            Traceback (most recent call last)",
            "\u001b[0;32m<ipython-input-7-81f44f2d6e55>\u001b[0m in \u001b[0;36m<module>\u001b[0;34m\u001b[0m\n\u001b[1;32m      1\u001b[0m \u001b[0mtext\u001b[0m \u001b[0;34m=\u001b[0m \u001b[0;34m'    python is best    '\u001b[0m\u001b[0;34m\u001b[0m\u001b[0;34m\u001b[0m\u001b[0m\n\u001b[1;32m      2\u001b[0m \u001b[0mprint\u001b[0m\u001b[0;34m(\u001b[0m\u001b[0mtext\u001b[0m\u001b[0;34m)\u001b[0m\u001b[0;34m\u001b[0m\u001b[0;34m\u001b[0m\u001b[0m\n\u001b[0;32m----> 3\u001b[0;31m \u001b[0mresult\u001b[0m \u001b[0;34m=\u001b[0m \u001b[0mtext\u001b[0m\u001b[0;34m.\u001b[0m\u001b[0mstrips\u001b[0m\u001b[0;34m(\u001b[0m\u001b[0;34m)\u001b[0m\u001b[0;34m\u001b[0m\u001b[0;34m\u001b[0m\u001b[0m\n\u001b[0m\u001b[1;32m      4\u001b[0m \u001b[0mprint\u001b[0m\u001b[0;34m(\u001b[0m\u001b[0mresult\u001b[0m\u001b[0;34m)\u001b[0m\u001b[0;34m\u001b[0m\u001b[0;34m\u001b[0m\u001b[0m\n",
            "\u001b[0;31mAttributeError\u001b[0m: 'str' object has no attribute 'strips'"
          ]
        }
      ]
    },
    {
      "cell_type": "code",
      "source": [
        "# split \n",
        "# 문장을 분리하는 메서드\n",
        "text = \"내년 주요 사이버 위협으로 클라우드 전환에 따른 사고 위험 및 글로벌 해킹 조직의 공격 증가, 랜섬웨어의 진화 등이 꼽혔다.\"\n",
        "result = text.split(',')\n",
        "print(result)"
      ],
      "metadata": {
        "colab": {
          "base_uri": "https://localhost:8080/"
        },
        "id": "NHkgo6o12Ogs",
        "outputId": "fd9de19b-52ed-4d9a-c23d-b47833af7351"
      },
      "execution_count": 15,
      "outputs": [
        {
          "output_type": "stream",
          "name": "stdout",
          "text": [
            "['내년 주요 사이버 위협으로 클라우드 전환에 따른 사고 위험 및 글로벌 해킹 조직의 공격 증가', ' 랜섬웨어의 진화 등이 꼽혔다.']\n"
          ]
        }
      ]
    },
    {
      "cell_type": "markdown",
      "source": [
        "## 리스트 자료형"
      ],
      "metadata": {
        "id": "PF5Z-SDh49Dm"
      }
    },
    {
      "cell_type": "code",
      "source": [
        "a = [100, 200, 300]\n",
        "b = [400, 500, 600]\n",
        "\n",
        "a.append(b)\n",
        "# a.append(400)\n",
        "# a.append(500)\n",
        "# a.append(600)\n",
        "\n",
        "print(a)\n",
        "# [100, 200, 300]"
      ],
      "metadata": {
        "colab": {
          "base_uri": "https://localhost:8080/"
        },
        "id": "epYYo5Ds2RNa",
        "outputId": "fc287af1-ee26-46d6-b0ed-cd97c532f4e8"
      },
      "execution_count": 25,
      "outputs": [
        {
          "output_type": "stream",
          "name": "stdout",
          "text": [
            "[100, 200, 300, [400, 500, 600]]\n"
          ]
        }
      ]
    },
    {
      "cell_type": "code",
      "source": [
        "a = [100, 200, 300]\n",
        "b = [400, 500, 600]\n",
        "\n",
        "# 반복문 활용 (복잡)\n",
        "# extend()\n",
        "a.extend(b)\n",
        "\n",
        "print(a)"
      ],
      "metadata": {
        "colab": {
          "base_uri": "https://localhost:8080/"
        },
        "id": "8k3l8zGc_S0f",
        "outputId": "54abc1a4-433e-4444-d7b1-a093b1fe430d"
      },
      "execution_count": 26,
      "outputs": [
        {
          "output_type": "stream",
          "name": "stdout",
          "text": [
            "[100, 200, 300, 400, 500, 600]\n"
          ]
        }
      ]
    },
    {
      "cell_type": "markdown",
      "source": [
        "- 리스트 중간에 새로운 값을 추가 "
      ],
      "metadata": {
        "id": "pFvCSHEJ2N78"
      }
    },
    {
      "cell_type": "code",
      "source": [
        "# insert()\n",
        "a = [100, 200, 300]\n",
        "\n",
        "# 100과 200사이에 150을 추가하\n",
        "a.insert(1, 150)\n",
        "print(a)"
      ],
      "metadata": {
        "colab": {
          "base_uri": "https://localhost:8080/"
        },
        "id": "jQo_IIEj_uRY",
        "outputId": "6f714e8b-612c-4f46-814a-e791e9a55fac"
      },
      "execution_count": 27,
      "outputs": [
        {
          "output_type": "stream",
          "name": "stdout",
          "text": [
            "[100, 150, 200, 300]\n"
          ]
        }
      ]
    },
    {
      "cell_type": "markdown",
      "source": [
        "### 리스트 내 특정 값 삭제"
      ],
      "metadata": {
        "id": "AtSJwZEOAiS1"
      }
    },
    {
      "cell_type": "code",
      "source": [
        "a = [1, 2, 1, 2]\n",
        "a.remove(1)\n",
        "print(a)\n",
        "\n",
        "a.remove(3)\n",
        "print(a)"
      ],
      "metadata": {
        "colab": {
          "base_uri": "https://localhost:8080/",
          "height": 248
        },
        "id": "Z_Q21XhtAl3M",
        "outputId": "2aa2fe26-b4cb-46f1-cc42-e1c2f4840a4d"
      },
      "execution_count": 32,
      "outputs": [
        {
          "output_type": "stream",
          "name": "stdout",
          "text": [
            "[2, 1, 2]\n"
          ]
        },
        {
          "output_type": "error",
          "ename": "ValueError",
          "evalue": "ignored",
          "traceback": [
            "\u001b[0;31m---------------------------------------------------------------------------\u001b[0m",
            "\u001b[0;31mValueError\u001b[0m                                Traceback (most recent call last)",
            "\u001b[0;32m<ipython-input-32-50ab77a1a6d7>\u001b[0m in \u001b[0;36m<module>\u001b[0;34m\u001b[0m\n\u001b[1;32m      3\u001b[0m \u001b[0mprint\u001b[0m\u001b[0;34m(\u001b[0m\u001b[0ma\u001b[0m\u001b[0;34m)\u001b[0m\u001b[0;34m\u001b[0m\u001b[0;34m\u001b[0m\u001b[0m\n\u001b[1;32m      4\u001b[0m \u001b[0;34m\u001b[0m\u001b[0m\n\u001b[0;32m----> 5\u001b[0;31m \u001b[0ma\u001b[0m\u001b[0;34m.\u001b[0m\u001b[0mremove\u001b[0m\u001b[0;34m(\u001b[0m\u001b[0;36m3\u001b[0m\u001b[0;34m)\u001b[0m\u001b[0;34m\u001b[0m\u001b[0;34m\u001b[0m\u001b[0m\n\u001b[0m\u001b[1;32m      6\u001b[0m \u001b[0mprint\u001b[0m\u001b[0;34m(\u001b[0m\u001b[0ma\u001b[0m\u001b[0;34m)\u001b[0m\u001b[0;34m\u001b[0m\u001b[0;34m\u001b[0m\u001b[0m\n",
            "\u001b[0;31mValueError\u001b[0m: list.remove(x): x not in list"
          ]
        }
      ]
    },
    {
      "cell_type": "code",
      "source": [
        "a = [0, 1, 2, 3, 4, 5, 6, 7, 8, 9]\n",
        "# a = [0, 100, 200]\n",
        "\n",
        "# 1 삭제\n",
        "del a[1] # -- 인덱스 번호\n",
        "\n",
        "print(a)\n",
        "\n",
        "# 범위로 삭제\n",
        "del a[1:5]\n",
        "print(a)"
      ],
      "metadata": {
        "colab": {
          "base_uri": "https://localhost:8080/"
        },
        "id": "vol2DZZvBKI5",
        "outputId": "3d2de0b5-7996-4e54-e19b-cd5f76a704f6"
      },
      "execution_count": 36,
      "outputs": [
        {
          "output_type": "stream",
          "name": "stdout",
          "text": [
            "[0, 2, 3, 4, 5, 6, 7, 8, 9]\n",
            "[0, 6, 7, 8, 9]\n"
          ]
        }
      ]
    },
    {
      "cell_type": "markdown",
      "source": [
        "- 전체 다 지우자"
      ],
      "metadata": {
        "id": "gorfU619CBFh"
      }
    },
    {
      "cell_type": "code",
      "source": [
        "a = [1,1,1,1,1,1]\n",
        "print(a)\n",
        "\n",
        "a.clear()\n",
        "print(a)"
      ],
      "metadata": {
        "colab": {
          "base_uri": "https://localhost:8080/"
        },
        "id": "uZ_VHGA1CCsu",
        "outputId": "9dcf76b4-9789-4ba3-c8a3-fcc768d90ef2"
      },
      "execution_count": 38,
      "outputs": [
        {
          "output_type": "stream",
          "name": "stdout",
          "text": [
            "[1, 1, 1, 1, 1, 1]\n",
            "[]\n"
          ]
        }
      ]
    },
    {
      "cell_type": "code",
      "source": [
        "a = [\"Gold\", \"Gold\", \"Silver\", \"Silver\"]\n",
        "\n",
        "# Silver가 처음 등장하는 인덱스 번호 궁금\n",
        "print(a.index(\"Silver\"))"
      ],
      "metadata": {
        "colab": {
          "base_uri": "https://localhost:8080/"
        },
        "id": "coYxvESQCYkL",
        "outputId": "41a091ca-b0a9-46a2-ad78-7cbdad4d4929"
      },
      "execution_count": 39,
      "outputs": [
        {
          "output_type": "stream",
          "name": "stdout",
          "text": [
            "2\n"
          ]
        }
      ]
    },
    {
      "cell_type": "markdown",
      "source": [
        "- 정렬"
      ],
      "metadata": {
        "id": "9jmkk0KxCyz2"
      }
    },
    {
      "cell_type": "code",
      "source": [
        "a = [1, 6, 5, 2, 3, 4]\n",
        "a.sort()\n",
        "print(a)"
      ],
      "metadata": {
        "colab": {
          "base_uri": "https://localhost:8080/"
        },
        "id": "s2JiAU5-CzvW",
        "outputId": "5197f046-2a72-4bf5-a210-a1d49c872f98"
      },
      "execution_count": 40,
      "outputs": [
        {
          "output_type": "stream",
          "name": "stdout",
          "text": [
            "[1, 2, 3, 4, 5, 6]\n"
          ]
        }
      ]
    },
    {
      "cell_type": "code",
      "source": [
        "# 내림차순으로 정렬\n",
        "a = [1, 6, 5, 2, 3, 4]\n",
        "# a.sort(reverse=True)\n",
        "a.reverse()\n",
        "print(a)"
      ],
      "metadata": {
        "colab": {
          "base_uri": "https://localhost:8080/"
        },
        "id": "wfcQ0RIRC9TJ",
        "outputId": "97634527-f992-4af3-80a8-f9f1f1482b3b"
      },
      "execution_count": 43,
      "outputs": [
        {
          "output_type": "stream",
          "name": "stdout",
          "text": [
            "[4, 3, 2, 5, 6, 1]\n"
          ]
        }
      ]
    },
    {
      "cell_type": "code",
      "source": [
        "a = [1, 6, 5, 2, 3, 4, \"a\"]\n",
        "a.sort()"
      ],
      "metadata": {
        "colab": {
          "base_uri": "https://localhost:8080/",
          "height": 193
        },
        "id": "zWVB23saEm4w",
        "outputId": "dfb90817-a90b-4052-a197-96054583f6a0"
      },
      "execution_count": 44,
      "outputs": [
        {
          "output_type": "error",
          "ename": "TypeError",
          "evalue": "ignored",
          "traceback": [
            "\u001b[0;31m---------------------------------------------------------------------------\u001b[0m",
            "\u001b[0;31mTypeError\u001b[0m                                 Traceback (most recent call last)",
            "\u001b[0;32m<ipython-input-44-c15441fd928e>\u001b[0m in \u001b[0;36m<module>\u001b[0;34m\u001b[0m\n\u001b[1;32m      1\u001b[0m \u001b[0ma\u001b[0m \u001b[0;34m=\u001b[0m \u001b[0;34m[\u001b[0m\u001b[0;36m1\u001b[0m\u001b[0;34m,\u001b[0m \u001b[0;36m6\u001b[0m\u001b[0;34m,\u001b[0m \u001b[0;36m5\u001b[0m\u001b[0;34m,\u001b[0m \u001b[0;36m2\u001b[0m\u001b[0;34m,\u001b[0m \u001b[0;36m3\u001b[0m\u001b[0;34m,\u001b[0m \u001b[0;36m4\u001b[0m\u001b[0;34m,\u001b[0m \u001b[0;34m\"a\"\u001b[0m\u001b[0;34m]\u001b[0m\u001b[0;34m\u001b[0m\u001b[0;34m\u001b[0m\u001b[0m\n\u001b[0;32m----> 2\u001b[0;31m \u001b[0ma\u001b[0m\u001b[0;34m.\u001b[0m\u001b[0msort\u001b[0m\u001b[0;34m(\u001b[0m\u001b[0;34m)\u001b[0m\u001b[0;34m\u001b[0m\u001b[0;34m\u001b[0m\u001b[0m\n\u001b[0m",
            "\u001b[0;31mTypeError\u001b[0m: '<' not supported between instances of 'str' and 'int'"
          ]
        }
      ]
    },
    {
      "cell_type": "code",
      "source": [
        "a = [1, 6, 5, 2, 3, 4]\n",
        "print(min(a)) \n",
        "print(max(a))\n",
        "print(len(a))"
      ],
      "metadata": {
        "colab": {
          "base_uri": "https://localhost:8080/"
        },
        "id": "HWQvBrMsE1H-",
        "outputId": "6ae6ff62-8f52-45a0-bf43-4c481dabb29c"
      },
      "execution_count": 49,
      "outputs": [
        {
          "output_type": "stream",
          "name": "stdout",
          "text": [
            "1\n",
            "6\n",
            "6\n"
          ]
        }
      ]
    },
    {
      "cell_type": "markdown",
      "source": [
        "## 튜플\n",
        "- 튜플 생성"
      ],
      "metadata": {
        "id": "PQctOJV3GB03"
      }
    },
    {
      "cell_type": "code",
      "source": [
        "tuple1 = (0, )\n",
        "tuple2 = (0, 1, 2)\n",
        "tuple3 = 0, 1, 2, 3\n",
        "\n",
        "print(tuple1)\n",
        "print(tuple2)\n",
        "print(tuple3)\n",
        "\n",
        "print(type(tuple1))\n",
        "print(type(tuple2))\n",
        "print(type(tuple3))"
      ],
      "metadata": {
        "colab": {
          "base_uri": "https://localhost:8080/"
        },
        "id": "iX4YGYtCGDYP",
        "outputId": "b72b670c-9fd3-460c-80c3-d8afdefe82c4"
      },
      "execution_count": 51,
      "outputs": [
        {
          "output_type": "stream",
          "name": "stdout",
          "text": [
            "(0,)\n",
            "(0, 1, 2)\n",
            "(0, 1, 2, 3)\n",
            "<class 'tuple'>\n",
            "<class 'tuple'>\n",
            "<class 'tuple'>\n"
          ]
        }
      ]
    },
    {
      "cell_type": "code",
      "source": [
        "tuple0 = (1)\n",
        "print(tuple0)\n",
        "print(type(tuple0))"
      ],
      "metadata": {
        "colab": {
          "base_uri": "https://localhost:8080/"
        },
        "id": "pLwQ0wwyGco_",
        "outputId": "19357bd1-9316-4eb2-e4a0-486565ce0480"
      },
      "execution_count": 53,
      "outputs": [
        {
          "output_type": "stream",
          "name": "stdout",
          "text": [
            "1\n",
            "<class 'int'>\n"
          ]
        }
      ]
    },
    {
      "cell_type": "code",
      "source": [
        "a = (0, 1, 2, 'A')\n",
        "print(a)\n",
        "\n",
        "a.remove('A')\n",
        "print(a)"
      ],
      "metadata": {
        "colab": {
          "base_uri": "https://localhost:8080/",
          "height": 248
        },
        "id": "R5EMMuK_Gp8E",
        "outputId": "d133fafe-d0c3-4e90-dd28-f34195cba8c1"
      },
      "execution_count": 59,
      "outputs": [
        {
          "output_type": "stream",
          "name": "stdout",
          "text": [
            "(0, 1, 2, 'A')\n"
          ]
        },
        {
          "output_type": "error",
          "ename": "AttributeError",
          "evalue": "ignored",
          "traceback": [
            "\u001b[0;31m---------------------------------------------------------------------------\u001b[0m",
            "\u001b[0;31mAttributeError\u001b[0m                            Traceback (most recent call last)",
            "\u001b[0;32m<ipython-input-59-3ec266c6a4f9>\u001b[0m in \u001b[0;36m<module>\u001b[0;34m\u001b[0m\n\u001b[1;32m      2\u001b[0m \u001b[0mprint\u001b[0m\u001b[0;34m(\u001b[0m\u001b[0ma\u001b[0m\u001b[0;34m)\u001b[0m\u001b[0;34m\u001b[0m\u001b[0;34m\u001b[0m\u001b[0m\n\u001b[1;32m      3\u001b[0m \u001b[0;34m\u001b[0m\u001b[0m\n\u001b[0;32m----> 4\u001b[0;31m \u001b[0ma\u001b[0m\u001b[0;34m.\u001b[0m\u001b[0mremove\u001b[0m\u001b[0;34m(\u001b[0m\u001b[0;34m'A'\u001b[0m\u001b[0;34m)\u001b[0m\u001b[0;34m\u001b[0m\u001b[0;34m\u001b[0m\u001b[0m\n\u001b[0m\u001b[1;32m      5\u001b[0m \u001b[0mprint\u001b[0m\u001b[0;34m(\u001b[0m\u001b[0ma\u001b[0m\u001b[0;34m)\u001b[0m\u001b[0;34m\u001b[0m\u001b[0;34m\u001b[0m\u001b[0m\n",
            "\u001b[0;31mAttributeError\u001b[0m: 'tuple' object has no attribute 'remove'"
          ]
        }
      ]
    },
    {
      "cell_type": "code",
      "source": [
        "a = (0, 1, 2, 'A')\n",
        "\n",
        "del a[3]\n",
        "\n",
        "print(a)"
      ],
      "metadata": {
        "colab": {
          "base_uri": "https://localhost:8080/",
          "height": 248
        },
        "id": "NKHI8AvAHeWF",
        "outputId": "d42e596c-b4bb-4a93-d30e-faf8de0e5d52"
      },
      "execution_count": 61,
      "outputs": [
        {
          "output_type": "error",
          "ename": "TypeError",
          "evalue": "ignored",
          "traceback": [
            "\u001b[0;31m---------------------------------------------------------------------------\u001b[0m",
            "\u001b[0;31mTypeError\u001b[0m                                 Traceback (most recent call last)",
            "\u001b[0;32m<ipython-input-61-37818d13da1f>\u001b[0m in \u001b[0;36m<module>\u001b[0;34m\u001b[0m\n\u001b[1;32m      1\u001b[0m \u001b[0ma\u001b[0m \u001b[0;34m=\u001b[0m \u001b[0;34m(\u001b[0m\u001b[0;36m0\u001b[0m\u001b[0;34m,\u001b[0m \u001b[0;36m1\u001b[0m\u001b[0;34m,\u001b[0m \u001b[0;36m2\u001b[0m\u001b[0;34m,\u001b[0m \u001b[0;34m'A'\u001b[0m\u001b[0;34m)\u001b[0m\u001b[0;34m\u001b[0m\u001b[0;34m\u001b[0m\u001b[0m\n\u001b[1;32m      2\u001b[0m \u001b[0;34m\u001b[0m\u001b[0m\n\u001b[0;32m----> 3\u001b[0;31m \u001b[0;32mdel\u001b[0m \u001b[0ma\u001b[0m\u001b[0;34m[\u001b[0m\u001b[0;36m3\u001b[0m\u001b[0;34m]\u001b[0m\u001b[0;34m\u001b[0m\u001b[0;34m\u001b[0m\u001b[0m\n\u001b[0m\u001b[1;32m      4\u001b[0m \u001b[0;34m\u001b[0m\u001b[0m\n\u001b[1;32m      5\u001b[0m \u001b[0mprint\u001b[0m\u001b[0;34m(\u001b[0m\u001b[0ma\u001b[0m\u001b[0;34m)\u001b[0m\u001b[0;34m\u001b[0m\u001b[0;34m\u001b[0m\u001b[0m\n",
            "\u001b[0;31mTypeError\u001b[0m: 'tuple' object doesn't support item deletion"
          ]
        }
      ]
    },
    {
      "cell_type": "markdown",
      "source": [
        "### 튜플 인덱싱 및 슬라이싱"
      ],
      "metadata": {
        "id": "HnFpJFPrIG1O"
      }
    },
    {
      "cell_type": "code",
      "source": [
        "tuple0 = (0, 1, 2, 3, 4, 5, 6, 7, 8, 9)\n",
        "print(tuple0[2])\n",
        "print(tuple0[::3])\n"
      ],
      "metadata": {
        "colab": {
          "base_uri": "https://localhost:8080/"
        },
        "id": "2H6mFqeuIGhc",
        "outputId": "138bef35-d75d-4b75-a887-5d3a1b826120"
      },
      "execution_count": 67,
      "outputs": [
        {
          "output_type": "stream",
          "name": "stdout",
          "text": [
            "2\n",
            "(0, 3, 6, 9)\n"
          ]
        }
      ]
    },
    {
      "cell_type": "markdown",
      "source": [
        "## 딕셔너리\n",
        "- JSON과 유사한 자료형"
      ],
      "metadata": {
        "id": "SuM1YsmRNXXc"
      }
    },
    {
      "cell_type": "code",
      "source": [
        "# {key:value} \n",
        "numbers = {1 : \"One\", 2: \"Two\", 3 : \"Three\"}\n",
        "print(numbers)"
      ],
      "metadata": {
        "colab": {
          "base_uri": "https://localhost:8080/"
        },
        "id": "NF7bPDpCNbB8",
        "outputId": "3796ea15-497a-48de-c7ab-1cd49007f3cc"
      },
      "execution_count": 68,
      "outputs": [
        {
          "output_type": "stream",
          "name": "stdout",
          "text": [
            "{1: 'One', 2: 'Two', 3: 'Three'}\n"
          ]
        }
      ]
    },
    {
      "cell_type": "code",
      "source": [
        "country_capital = {\"한국\":\"서울\", \"일본\":\"동경\", \"중국\":\"북경\"}\n",
        "print(country_capital)"
      ],
      "metadata": {
        "colab": {
          "base_uri": "https://localhost:8080/"
        },
        "id": "1Nho_wToNtAM",
        "outputId": "ee63cfdd-dcb6-4368-c374-8aacdd1f1d01"
      },
      "execution_count": 69,
      "outputs": [
        {
          "output_type": "stream",
          "name": "stdout",
          "text": [
            "{'한국': '서울', '일본': '동경', '중국': '북경'}\n"
          ]
        }
      ]
    },
    {
      "cell_type": "code",
      "source": [
        "print(numbers[1])\n",
        "print(country_capital['한국'])"
      ],
      "metadata": {
        "colab": {
          "base_uri": "https://localhost:8080/"
        },
        "id": "cAntuHdTOCHY",
        "outputId": "f4ae7b11-66ba-400c-949d-cd09c4ccdd6d"
      },
      "execution_count": 71,
      "outputs": [
        {
          "output_type": "stream",
          "name": "stdout",
          "text": [
            "One\n",
            "서울\n"
          ]
        }
      ]
    },
    {
      "cell_type": "code",
      "source": [
        "numbers[4] = 'four'\n",
        "print(numbers)\n",
        "\n",
        "country_capital['미국'] = '뉴욕'\n",
        "print(country_capital)"
      ],
      "metadata": {
        "colab": {
          "base_uri": "https://localhost:8080/"
        },
        "id": "IBngfU5gOQZR",
        "outputId": "ec1c3a55-0499-4aa5-f7b8-cc50f8182fe7"
      },
      "execution_count": 74,
      "outputs": [
        {
          "output_type": "stream",
          "name": "stdout",
          "text": [
            "{1: 'One', 2: 'Two', 3: 'Three', 4: 'four'}\n",
            "{'한국': '서울', '일본': '동경', '중국': '북경', '미국': '뉴욕'}\n"
          ]
        }
      ]
    },
    {
      "cell_type": "markdown",
      "source": [
        "- 틀린 값 수정"
      ],
      "metadata": {
        "id": "zg2FxBTEOgGD"
      }
    },
    {
      "cell_type": "code",
      "source": [
        "country_capital['미국'] = '워싱턴'\n",
        "print(country_capital)"
      ],
      "metadata": {
        "colab": {
          "base_uri": "https://localhost:8080/"
        },
        "id": "g8uQMZtqOin1",
        "outputId": "cad645e6-bfad-4b80-c137-d56baf15c682"
      },
      "execution_count": 75,
      "outputs": [
        {
          "output_type": "stream",
          "name": "stdout",
          "text": [
            "{'한국': '서울', '일본': '동경', '중국': '북경', '미국': '워싱턴'}\n"
          ]
        }
      ]
    },
    {
      "cell_type": "markdown",
      "source": [
        "- 삭제 "
      ],
      "metadata": {
        "id": "ZQ5Hcbu-OxLA"
      }
    },
    {
      "cell_type": "code",
      "source": [
        "del country_capital['미국']\n",
        "print(country_capital)"
      ],
      "metadata": {
        "colab": {
          "base_uri": "https://localhost:8080/"
        },
        "id": "dpejbc9EOyHF",
        "outputId": "1a094dae-2aee-445f-9a70-b376ae263d8d"
      },
      "execution_count": 76,
      "outputs": [
        {
          "output_type": "stream",
          "name": "stdout",
          "text": [
            "{'한국': '서울', '일본': '동경', '중국': '북경'}\n"
          ]
        }
      ]
    },
    {
      "cell_type": "markdown",
      "source": [
        "### Dictionary 메서드\n",
        "- keys() : 키 값만 출력\n",
        "- values() : value값만 출력"
      ],
      "metadata": {
        "id": "sMq8N6a4PDCE"
      }
    },
    {
      "cell_type": "code",
      "source": [
        "result = list(country_capital.keys())\n",
        "print(result)\n",
        "print(type(result))"
      ],
      "metadata": {
        "colab": {
          "base_uri": "https://localhost:8080/"
        },
        "id": "jqnYf6iMPPSo",
        "outputId": "697f88cd-e1c4-41fc-a375-6ea19731e9a8"
      },
      "execution_count": 79,
      "outputs": [
        {
          "output_type": "stream",
          "name": "stdout",
          "text": [
            "['한국', '일본', '중국']\n",
            "<class 'list'>\n"
          ]
        }
      ]
    },
    {
      "cell_type": "code",
      "source": [
        "result = list(country_capital.values())\n",
        "print(result)\n",
        "print(type(result))"
      ],
      "metadata": {
        "colab": {
          "base_uri": "https://localhost:8080/"
        },
        "id": "G8gPhisKPsMg",
        "outputId": "20e42638-a188-49a7-f0c8-8c3b04e8543d"
      },
      "execution_count": 80,
      "outputs": [
        {
          "output_type": "stream",
          "name": "stdout",
          "text": [
            "['서울', '동경', '북경']\n",
            "<class 'list'>\n"
          ]
        }
      ]
    },
    {
      "cell_type": "code",
      "source": [
        "result = list(country_capital.items())\n",
        "print(result)\n",
        "print(type(result))"
      ],
      "metadata": {
        "colab": {
          "base_uri": "https://localhost:8080/"
        },
        "id": "SIk-3cgkPzZo",
        "outputId": "bfcc02c2-9b32-4dfa-8bd1-7ad27994e923"
      },
      "execution_count": 81,
      "outputs": [
        {
          "output_type": "stream",
          "name": "stdout",
          "text": [
            "[('한국', '서울'), ('일본', '동경'), ('중국', '북경')]\n",
            "<class 'list'>\n"
          ]
        }
      ]
    },
    {
      "cell_type": "markdown",
      "source": [
        "## 조건문"
      ],
      "metadata": {
        "id": "ZxVDS01oQGPe"
      }
    },
    {
      "cell_type": "code",
      "source": [
        "score = int(input(\"점수를 입력해주세요 (0~100)\"))\n",
        "print(score)\n",
        "\n",
        "if score >= 90:\n",
        "  # 코드 작성\n",
        "  print('A등급')\n",
        "elif score >= 80:\n",
        "  print('B등급')\n",
        "else:\n",
        "  print('F등급')"
      ],
      "metadata": {
        "colab": {
          "base_uri": "https://localhost:8080/"
        },
        "id": "r9d_wlK9QHxb",
        "outputId": "5be1e8bf-28d3-4135-cf1c-42165878dae2"
      },
      "execution_count": 86,
      "outputs": [
        {
          "output_type": "stream",
          "name": "stdout",
          "text": [
            "점수를 입력해주세요 (0~100)85\n",
            "85\n",
            "B등급\n"
          ]
        }
      ]
    },
    {
      "cell_type": "markdown",
      "source": [
        "## 반복문\n",
        "- Hello World 여러번 입력"
      ],
      "metadata": {
        "id": "c1CESPYWSKDB"
      }
    },
    {
      "cell_type": "code",
      "source": [
        "range(3)"
      ],
      "metadata": {
        "colab": {
          "base_uri": "https://localhost:8080/"
        },
        "id": "qtBCYUuZScr6",
        "outputId": "7bf42b08-7304-4c8c-ddec-bc58cc72d6cc"
      },
      "execution_count": 88,
      "outputs": [
        {
          "output_type": "execute_result",
          "data": {
            "text/plain": [
              "range(0, 3)"
            ]
          },
          "metadata": {},
          "execution_count": 88
        }
      ]
    },
    {
      "cell_type": "code",
      "source": [
        "# for i in 범위가정해진 값: "
      ],
      "metadata": {
        "id": "qziTcNc-SgTd"
      },
      "execution_count": null,
      "outputs": []
    },
    {
      "cell_type": "code",
      "source": [
        "for i in range(3):\n",
        "  \n",
        "  # 코드 작성\n",
        "  print(i + 1, \"Hello World\")"
      ],
      "metadata": {
        "colab": {
          "base_uri": "https://localhost:8080/"
        },
        "id": "_0KUzOghSM0d",
        "outputId": "f3051040-91f8-4fc2-b134-deca742e1c86"
      },
      "execution_count": 87,
      "outputs": [
        {
          "output_type": "stream",
          "name": "stdout",
          "text": [
            "1 Hello World\n",
            "2 Hello World\n",
            "3 Hello World\n"
          ]
        }
      ]
    },
    {
      "cell_type": "code",
      "source": [
        "a = \"Hello\"\n",
        "for x in a:\n",
        "  print(x)"
      ],
      "metadata": {
        "colab": {
          "base_uri": "https://localhost:8080/"
        },
        "id": "-jYddmydStKZ",
        "outputId": "cd20b1cf-8f3f-472d-a41e-415959360e6d"
      },
      "execution_count": 89,
      "outputs": [
        {
          "output_type": "stream",
          "name": "stdout",
          "text": [
            "H\n",
            "e\n",
            "l\n",
            "l\n",
            "o\n"
          ]
        }
      ]
    },
    {
      "cell_type": "code",
      "source": [
        "a = [100, 200, 300]\n",
        "for x in a:\n",
        "  print(x)"
      ],
      "metadata": {
        "colab": {
          "base_uri": "https://localhost:8080/"
        },
        "id": "wYB_yfh3S4f0",
        "outputId": "b6a6a6cb-9fe4-400a-a021-21a2ec2cdad4"
      },
      "execution_count": 90,
      "outputs": [
        {
          "output_type": "stream",
          "name": "stdout",
          "text": [
            "100\n",
            "200\n",
            "300\n"
          ]
        }
      ]
    },
    {
      "cell_type": "code",
      "source": [
        "a = (100, 200, 300)\n",
        "for x in a:\n",
        "  print(x)"
      ],
      "metadata": {
        "colab": {
          "base_uri": "https://localhost:8080/"
        },
        "id": "OpUi5TOmTCyh",
        "outputId": "0a14d0cd-8eac-459d-ebdd-49f98dc6284d"
      },
      "execution_count": 91,
      "outputs": [
        {
          "output_type": "stream",
          "name": "stdout",
          "text": [
            "100\n",
            "200\n",
            "300\n"
          ]
        }
      ]
    },
    {
      "cell_type": "code",
      "source": [
        "# for i in 범위가정해진 값(=시퀀스데이터)): "
      ],
      "metadata": {
        "id": "OVeUB6gBTJo1"
      },
      "execution_count": null,
      "outputs": []
    },
    {
      "cell_type": "markdown",
      "source": [
        "## 파이썬 반복문 여러가지 방법\n",
        "- 종류 겁나 많음"
      ],
      "metadata": {
        "id": "NhnzW3b6TXUv"
      }
    },
    {
      "cell_type": "code",
      "source": [
        "a = [\"A\", \"B\", \"C\"]\n",
        "\n",
        "num = 0\n",
        "for idx in a:\n",
        "  print(num, idx)\n",
        "  num = num+1"
      ],
      "metadata": {
        "colab": {
          "base_uri": "https://localhost:8080/"
        },
        "id": "cdUW70YXTbeu",
        "outputId": "f412bd6e-f132-4d0d-f7f6-384d562e6e19"
      },
      "execution_count": 94,
      "outputs": [
        {
          "output_type": "stream",
          "name": "stdout",
          "text": [
            "0 A\n",
            "1 B\n",
            "2 C\n"
          ]
        }
      ]
    },
    {
      "cell_type": "code",
      "source": [
        "a = [\"A\", \"B\", \"C\"]\n",
        "for idx, value in enumerate(a):\n",
        "  print(idx, value)"
      ],
      "metadata": {
        "colab": {
          "base_uri": "https://localhost:8080/"
        },
        "id": "nPlEDKVmT919",
        "outputId": "c33e15c9-bb57-4cf5-e0f1-ac304d3c72a5"
      },
      "execution_count": 95,
      "outputs": [
        {
          "output_type": "stream",
          "name": "stdout",
          "text": [
            "0 A\n",
            "1 B\n",
            "2 C\n"
          ]
        }
      ]
    },
    {
      "cell_type": "code",
      "source": [
        "str_list = [\"A\", \"B\", \"C\"]\n",
        "num_list = [1, 2, 3]\n",
        "\n",
        "for strs, nums in zip(str_list, num_list):\n",
        "  print(strs, nums)"
      ],
      "metadata": {
        "colab": {
          "base_uri": "https://localhost:8080/"
        },
        "id": "PF20aq2xUN5V",
        "outputId": "5bde780f-32ad-4085-b16e-50e49ab28c1e"
      },
      "execution_count": 96,
      "outputs": [
        {
          "output_type": "stream",
          "name": "stdout",
          "text": [
            "A 1\n",
            "B 2\n",
            "C 3\n"
          ]
        }
      ]
    },
    {
      "cell_type": "markdown",
      "source": [
        "## while문"
      ],
      "metadata": {
        "id": "Wkdakoi6Uszc"
      }
    },
    {
      "cell_type": "code",
      "source": [
        "i = 1\n",
        "while i < 7:\n",
        "  print(\"Hello World\")\n",
        "  i = i+1 # i += 1"
      ],
      "metadata": {
        "colab": {
          "base_uri": "https://localhost:8080/"
        },
        "id": "4MwMyJCvUr9B",
        "outputId": "a372bd5b-09db-4404-801a-d80a5ec38a7f"
      },
      "execution_count": 97,
      "outputs": [
        {
          "output_type": "stream",
          "name": "stdout",
          "text": [
            "Hello World\n",
            "Hello World\n",
            "Hello World\n",
            "Hello World\n",
            "Hello World\n",
            "Hello World\n"
          ]
        }
      ]
    },
    {
      "cell_type": "markdown",
      "source": [
        "## 파이썬 다운 문법 : 파이써닉 방식\n",
        "- Pythonic way \n",
        "- for loop 반복문을 한줄로 처리\n",
        "- List Comprehension (리스트 컴프리헨션)"
      ],
      "metadata": {
        "id": "YtJmTfuXVA3M"
      }
    },
    {
      "cell_type": "code",
      "source": [
        "a = ['computer', 'apple', 'human', 'zoo', 'country']\n",
        "\n",
        "# a가 들어간 문자만 리스트에 담자! \n",
        "result_list = []\n",
        "for x in a:\n",
        "  if \"a\" in x:\n",
        "    result_list.append(x)\n",
        "result_list"
      ],
      "metadata": {
        "colab": {
          "base_uri": "https://localhost:8080/"
        },
        "id": "9ccA9_W5VLmS",
        "outputId": "16604c2d-ad4f-4cbc-b02a-6a470ae91b77"
      },
      "execution_count": 98,
      "outputs": [
        {
          "output_type": "execute_result",
          "data": {
            "text/plain": [
              "['apple', 'human']"
            ]
          },
          "metadata": {},
          "execution_count": 98
        }
      ]
    },
    {
      "cell_type": "code",
      "source": [
        "a = ['computer', 'apple', 'human', 'zoo', 'country']\n",
        "result2 = [x for x in a if \"a\" in x]\n",
        "result2"
      ],
      "metadata": {
        "colab": {
          "base_uri": "https://localhost:8080/"
        },
        "id": "rGjHEVdCVr3C",
        "outputId": "44c2d9cc-24e2-48e2-b29e-d871d5ffd020"
      },
      "execution_count": 99,
      "outputs": [
        {
          "output_type": "execute_result",
          "data": {
            "text/plain": [
              "['apple', 'human']"
            ]
          },
          "metadata": {},
          "execution_count": 99
        }
      ]
    }
  ]
}